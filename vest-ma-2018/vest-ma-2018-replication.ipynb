{
 "cells": [
  {
   "cell_type": "code",
   "execution_count": null,
   "id": "98813525",
   "metadata": {},
   "outputs": [],
   "source": [
    "import pandas as pd # standard python data library\n",
    "import geopandas as gp # the geo-version of pandas\n",
    "import numpy as np \n",
    "import os\n",
    "import fiona\n",
    "from statistics import mean, median\n",
    "from pandas import read_csv\n",
    "gp.io.file.fiona.drvsupport.supported_drivers['KML'] = 'rw' #To load KML files\n",
    "import string\n",
    "import xml.etree.ElementTree as et"
   ]
  },
  {
   "cell_type": "markdown",
   "id": "d745b501",
   "metadata": {},
   "source": [
    "# Massachusetts"
   ]
  },
  {
   "cell_type": "markdown",
   "id": "ce0ae5da",
   "metadata": {},
   "source": [
    "## VEST Documentation"
   ]
  },
  {
   "cell_type": "markdown",
   "id": "19144e52",
   "metadata": {},
   "source": [
    "Election results from Massachusetts Secretary of the Commonwealth (https://electionstats.state.ma.us/) Precinct shapefile from MassGIS Bureau of Geographic Information (https://docs.digital.mass.gov/dataset/massgis-data-wards-and-precincts)\n",
    "\n",
    "The following precincts were split by congressional district to match reporting units: Andover 7; Bellingham 4; Cambridge 3-2; Fall River 5B,6C; Palmer 1; Raynham 1,2; Sudbury 1; Winchendon 1. Andover 9A was merged with Andover 1 by an act of the MA legislature prior to the 2018 election. The following precinct divisions are authorized and defined for voting purposes but not for redistricting purposes by specific acts of the MA legislature and were split accordingly: Chicopee 6A,6B; Dracut 6; Hingham 5; Newburyport 1; Peabody 4-3; Quincy 2-3; Revere 2-3,5-1,5-2. Warren A and Warren B precincts were split based on polling place assignments in the Warren parcel shapefile.\n",
    "\n",
    "G18USSDWAR - Elizabeth A. Warren (Democratic Party)  \n",
    "G18USSRDIE - Geoff Diehl (Republican Party)  \n",
    "G18USSUAYY - Shiva Ayyadurai (Unenrolled)  \n",
    "G18USSOWRI - Write-in Votes  \n",
    "\n",
    "G18GOVRBAK - Charles D. Baker (Republican Party)  \n",
    "G18GOVDGON - Jay M. Gonzalez  (Democratic Party)  \n",
    "G18GOVOWRI - Write-in Votes  \n",
    "\n",
    "G18ATGDHEA - Maura Healey  (Democratic Party)  \n",
    "G18ATGRMCM - James R. McMahon, III (Republican Party)  \n",
    "G18ATGOWRI - Write-in Votes  \n",
    "\n",
    "G18SOCDGAL - William Francis Galvin  (Democratic Party)  \n",
    "G18SOCRAMO - Anthony M. Amore (Republican Party)  \n",
    "G18SOCGSAN - Juan G. Sanchez, Jr (Green-Rainbow Party)  \n",
    "G18SOCOWRI - Write-in Votes  \n",
    "\n",
    "G18TREDGOL - Deborah B. Goldberg  (Democratic Party)  \n",
    "G18TRERORR - Keiko M. Orrall (Republican Party)  \n",
    "G18TREGGUE - Jamie M. Guerin (Green-Rainbow Party)  \n",
    "G18TREOWRI - Write-in Votes  \n",
    "  \n",
    "G18AUDDBUM - Suzanne M. Bump  (Democratic Party)  \n",
    "G18AUDRBRA - Helen Brady (Republican Party)  \n",
    "G18AUDLFIS - Daniel Fishman (Libertarian Party)  \n",
    "G18AUDGSTA - Edward J. Stamas (Green-Rainbow Party)  \n",
    "G18AUDOWRI - Write-in Votes  "
   ]
  },
  {
   "cell_type": "code",
   "execution_count": null,
   "id": "fd74a193",
   "metadata": {},
   "outputs": [],
   "source": []
  }
 ],
 "metadata": {
  "kernelspec": {
   "display_name": "Python 3",
   "language": "python",
   "name": "python3"
  },
  "language_info": {
   "codemirror_mode": {
    "name": "ipython",
    "version": 3
   },
   "file_extension": ".py",
   "mimetype": "text/x-python",
   "name": "python",
   "nbconvert_exporter": "python",
   "pygments_lexer": "ipython3",
   "version": "3.9.2"
  }
 },
 "nbformat": 4,
 "nbformat_minor": 5
}
